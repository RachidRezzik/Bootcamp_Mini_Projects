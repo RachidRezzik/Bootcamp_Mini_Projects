{
 "cells": [
  {
   "cell_type": "code",
   "execution_count": 25,
   "metadata": {},
   "outputs": [
    {
     "name": "stdout",
     "output_type": "stream",
     "text": [
      "   age  sex     bmi  children  smoker  region      charges  insuranceclaim\n",
      "0   19    0  27.900         0       1       3  16884.92400               1\n",
      "1   18    1  33.770         1       0       2   1725.55230               1\n",
      "2   28    1  33.000         3       0       2   4449.46200               0\n",
      "3   33    1  22.705         0       0       1  21984.47061               0\n",
      "4   32    1  28.880         0       0       1   3866.85520               1\n",
      "(1338, 8)\n"
     ]
    }
   ],
   "source": [
    "import pandas as pd\n",
    "import numpy as np\n",
    "import matplotlib.pyplot as plt\n",
    "from scipy.stats import t, ttest_ind_from_stats\n",
    "from numpy.random import seed\n",
    "medical = pd.read_csv('insurance2.csv')\n",
    "print(medical.head())\n",
    "print(medical.shape)"
   ]
  },
  {
   "cell_type": "code",
   "execution_count": 5,
   "metadata": {},
   "outputs": [
    {
     "name": "stdout",
     "output_type": "stream",
     "text": [
      "mean -  13270.422265141257\n",
      "std -  12110.011236693994\n",
      "count     1338.000000\n",
      "mean     13270.422265\n",
      "std      12110.011237\n",
      "min       1121.873900\n",
      "25%       4740.287150\n",
      "50%       9382.033000\n",
      "75%      16639.912515\n",
      "max      63770.428010\n",
      "Name: charges, dtype: float64\n",
      "Mean seems to be less appropriate to analyze costs than the median. Half of the data is less than $9382 while the mean is $13270 due to several large charges(need to investigate that they are not outliers). The wide range caused by the large charges is indicated by the large standard deviation of the charges. This large standard deviation needs to be understood.\n"
     ]
    }
   ],
   "source": [
    "#1 Plot the histogram of charges. Calculate mean and std\n",
    "charg_mean = medical['charges'].mean()\n",
    "charg_std = medical['charges'].std()\n",
    "print('mean - ', charg_mean)\n",
    "print('std - ', charg_std)\n",
    "print(medical['charges'].describe())\n",
    "print('Mean seems to be less appropriate to analyze costs than the median. Half of the data is less than $9382 while the mean is $13270 due to several large charges(need to investigate that they are not outliers). The wide range caused by the large charges is indicated by the large standard deviation of the charges. This large standard deviation needs to be understood.')"
   ]
  },
  {
   "cell_type": "code",
   "execution_count": 45,
   "metadata": {},
   "outputs": [
    {
     "name": "stdout",
     "output_type": "stream",
     "text": [
      "We can use this sample to establish a 95% confidence interval for our population mean. With that confidence interval we can see if the actual mean has a chance of being under $12000.\n",
      "The decent sample size (1338 people) allows for the distribution to more closely approach a normal distribution under the Central Limit Theorem.\n",
      "We will utilize a t-score as we do not now the population standard deviation.\n"
     ]
    }
   ],
   "source": [
    "#2 They are concerns the actual average charge has fallen below $12000\n",
    "print('We can use this sample to establish a 95% confidence interval for our population mean. With that confidence interval we can see if the actual mean has a chance of being under $12000.')\n",
    "print('The decent sample size (1338 people) allows for the distribution to more closely approach a normal distribution under the Central Limit Theorem.')\n",
    "print('We will utilize a t-score as we do not now the population standard deviation.')"
   ]
  },
  {
   "cell_type": "code",
   "execution_count": 6,
   "metadata": {},
   "outputs": [
    {
     "name": "stdout",
     "output_type": "stream",
     "text": [
      "We will go with one-sided due to the hospital being a business that at least needs to meet a certain mean for its operational model.\n",
      "Lower end -  12620.954034192644\n",
      "Concerns are unwarranted as the lower end of our confidence interval is greater than the minimum mean the hospital requires.\n"
     ]
    }
   ],
   "source": [
    "#3 Given the concern, what is the most appropriate interval? One-sided or two-sided?\n",
    "print('We will go with one-sided due to the hospital being a business that at least needs to meet a certain mean for its operational model.')\n",
    "marg_err = t.ppf(.975, 1337) * np.std(medical['charges'], ddof=1)/np.sqrt(1338)\n",
    "lower_end = charg_mean - marg_err\n",
    "print('Lower end - ', lower_end)\n",
    "print('Concerns are unwarranted as the lower end of our confidence interval is greater than the minimum mean the hospital requires.')"
   ]
  },
  {
   "cell_type": "code",
   "execution_count": 29,
   "metadata": {},
   "outputs": [
    {
     "name": "stdout",
     "output_type": "stream",
     "text": [
      "Null Hypothesis - Those with insurance are a different amount to those without\n",
      "Alternative Hypothesis - People with or without insurance are charged the same amount\n",
      "Insurance:  Mean- 16423.928276537663 STD- 14045.928418802127 Count- 783\n",
      "No Insurance:  Mean- 8821.421892306294 STD- 6446.510126811736 Count- 555\n",
      "An assumption is being made in our formula that the variances are equal.\n",
      "I feel an assumption is being made that all patients went in with same condition and were treated the exact same way. Different conditions/treatments can increase or decrease the charge independently of the patience having insurance or not.\n",
      "Up front with these means, it appears those with insurance are being charged more. What needs to be taken into account is the sample size, which will be done in the pooled standard deviation of those with and without insurance.\n"
     ]
    }
   ],
   "source": [
    "#4 Administrator now wants to know if those with insurance are actually charged a different amount to those without.\n",
    "# State the null and alternative hypothesis here\n",
    "print('Null Hypothesis - People with or without insurance are charged the same amount')\n",
    "print('Alternative Hypothesis - Those with insurance are a different amount to those without')\n",
    "insurance = medical.loc[medical['insuranceclaim'] == 1]\n",
    "no_insurance = medical.loc[medical['insuranceclaim'] == 0]\n",
    "ins_mean = insurance['charges'].mean()\n",
    "ins_std = insurance['charges'].std()\n",
    "ins_count = insurance['charges'].count()\n",
    "no_ins_mean = no_insurance['charges'].mean()\n",
    "no_ins_std = no_insurance['charges'].std()\n",
    "no_ins_count = no_insurance['charges'].count()\n",
    "print('Insurance: ', 'Mean-', ins_mean, 'STD-', ins_std, 'Count-', ins_count)\n",
    "print('No Insurance: ', 'Mean-', no_ins_mean, 'STD-', no_ins_std, 'Count-', no_ins_count)\n",
    "print('An assumption is being made in our formula that the variances are equal.')\n",
    "print('I feel an assumption is being made that all patients went in with same condition and were treated the exact same way. Different conditions/treatments can increase or decrease the charge independently of the patience having insurance or not.')\n",
    "print('Up front with these means, it appears those with insurance are being charged more. What needs to be taken into account is the sample size, which will be done in the pooled standard deviation of those with and without insurance.')"
   ]
  },
  {
   "cell_type": "code",
   "execution_count": 34,
   "metadata": {},
   "outputs": [
    {
     "name": "stdout",
     "output_type": "stream",
     "text": [
      "manually:\n",
      "11.89329903087671\n",
      "P-value < 0.001\n",
      "scipy.stats approach\n",
      "Ttest_indResult(statistic=11.893299030876712, pvalue=4.461230231620717e-31)\n",
      "P-value very low, so we reject the null hypothesis that people with or without insurance are charged the same.\n"
     ]
    }
   ],
   "source": [
    "#5 Perform the hypothesis test manually and also using scipy.stats\n",
    "print('manually:')\n",
    "STDp1 = np.sqrt((((ins_count - 1)*ins_std**2) + ((no_ins_count - 1)*no_ins_std**2))/(ins_count + no_ins_count - 2))\n",
    "t1 = (ins_mean - no_ins_mean)/(STDp1*np.sqrt((1/ins_count) + (1/no_ins_count)))\n",
    "print(t1)\n",
    "print('P-value < 0.001')\n",
    "print('scipy.stats approach')\n",
    "t2 = ttest_ind_from_stats(mean1=ins_mean, std1=ins_std, nobs1=ins_count, mean2=no_ins_mean, std2=no_ins_std, nobs2=no_ins_count)\n",
    "print(t2)\n",
    "print('P-value very low, so we reject the null hypothesis that people with or without insurance are charged the same.')"
   ]
  },
  {
   "cell_type": "code",
   "execution_count": 37,
   "metadata": {},
   "outputs": [
    {
     "name": "stdout",
     "output_type": "stream",
     "text": [
      "Ttest_indResult(statistic=13.298031957975647, pvalue=1.1105103216309438e-37)\n",
      "Produces a worse pvalue when not assuming equal variances.\n"
     ]
    }
   ],
   "source": [
    "#6 Lets assume the variances were not equal. Perform the test. \n",
    "new_t = ttest_ind_from_stats(mean1=ins_mean, std1=ins_std, nobs1=ins_count, mean2=no_ins_mean, std2=no_ins_std, nobs2=no_ins_count, equal_var=False)\n",
    "print(new_t)\n",
    "print('Produces a worse pvalue when not assuming equal variances.')"
   ]
  },
  {
   "cell_type": "code",
   "execution_count": 44,
   "metadata": {},
   "outputs": [
    {
     "name": "stdout",
     "output_type": "stream",
     "text": [
      "Scipy.stats contains several statistical tests, but not one for z-test. This is due to z-scores assumption that you contain knowledge about the populations standard deviation and mean. We cant really test hypothesis about the populations mean from samples, as we have assumed we already have knowledge on the population under z-score.\n"
     ]
    }
   ],
   "source": [
    "#7 Why is it that you can't find a z-test from a sample in scipy.stats? \n",
    "print('Scipy.stats contains several statistical tests, but not one for z-test. This is due to z-scores assumption that you contain knowledge about the populations standard deviation and mean. We cant really test hypothesis about the populations mean from samples, as we have assumed we already have knowledge on the population under z-score.') "
   ]
  }
 ],
 "metadata": {
  "kernelspec": {
   "display_name": "Python 3",
   "language": "python",
   "name": "python3"
  },
  "language_info": {
   "codemirror_mode": {
    "name": "ipython",
    "version": 3
   },
   "file_extension": ".py",
   "mimetype": "text/x-python",
   "name": "python",
   "nbconvert_exporter": "python",
   "pygments_lexer": "ipython3",
   "version": "3.7.4"
  }
 },
 "nbformat": 4,
 "nbformat_minor": 2
}

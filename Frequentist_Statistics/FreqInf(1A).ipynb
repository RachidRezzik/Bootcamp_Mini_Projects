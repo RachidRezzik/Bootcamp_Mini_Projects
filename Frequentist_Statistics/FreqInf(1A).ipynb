{
 "cells": [
  {
   "cell_type": "code",
   "execution_count": 6,
   "metadata": {},
   "outputs": [],
   "source": [
    "from scipy.stats import norm\n",
    "from scipy.stats import sem, t\n",
    "import numpy as np\n",
    "import pandas as pd\n",
    "from numpy.random import seed\n",
    "import matplotlib.pyplot as plt"
   ]
  },
  {
   "cell_type": "code",
   "execution_count": 6,
   "metadata": {},
   "outputs": [
    {
     "name": "stdout",
     "output_type": "stream",
     "text": [
      "pdf(x, loc=0, scale=1), Probability density function\n"
     ]
    }
   ],
   "source": [
    "#1. Call up the documentation for the `norm` function imported above. What is the second listed method?\n",
    "print('pdf(x, loc=0, scale=1), Probability density function')\n"
   ]
  },
  {
   "cell_type": "code",
   "execution_count": 11,
   "metadata": {},
   "outputs": [
    {
     "data": {
      "text/plain": [
       "array([-0.84800948,  1.30590636,  0.92420797,  0.6404118 , -1.05473698])"
      ]
     },
     "execution_count": 11,
     "metadata": {},
     "output_type": "execute_result"
    }
   ],
   "source": [
    "#2 Use the method that generates random variates to draw five samples from the standard normal distribution.\n",
    "seed(47)\n",
    "sample = norm.rvs(scale=1, size=5)\n",
    "sample"
   ]
  },
  {
   "cell_type": "code",
   "execution_count": 19,
   "metadata": {},
   "outputs": [
    {
     "name": "stdout",
     "output_type": "stream",
     "text": [
      "0.19355593334131074\n"
     ]
    },
    {
     "data": {
      "text/plain": [
       "'Expected Zero, but .19 is reasonably close.'"
      ]
     },
     "execution_count": 19,
     "metadata": {},
     "output_type": "execute_result"
    }
   ],
   "source": [
    "#3 What is the mean of this sample? Is it exactly equal to the value you expected? Hint: the sample was drawn from the standard normal distribution.\n",
    "mean_sample = np.mean(sample)\n",
    "print(mean_sample)\n",
    "'Expected Zero, but .19 is reasonably close.'"
   ]
  },
  {
   "cell_type": "code",
   "execution_count": 20,
   "metadata": {},
   "outputs": [
    {
     "data": {
      "text/plain": [
       "0.9606195639478641"
      ]
     },
     "execution_count": 20,
     "metadata": {},
     "output_type": "execute_result"
    }
   ],
   "source": [
    "#4 What is the standard deviation of these numbers? Manually Calculate \n",
    "std = np.sqrt(np.sum((sample - mean_sample) ** 2)/len(sample))\n",
    "std"
   ]
  },
  {
   "cell_type": "code",
   "execution_count": 22,
   "metadata": {},
   "outputs": [
    {
     "data": {
      "text/plain": [
       "1.0740053227518152"
      ]
     },
     "execution_count": 22,
     "metadata": {},
     "output_type": "execute_result"
    }
   ],
   "source": [
    "#5 If all we had to go on was our five samples, what would be our best estimate of the population standard deviation? Use Bessel's correction\n",
    "best_est = np.sqrt(np.sum((sample - mean_sample) ** 2)/(len(sample) - 1))\n",
    "best_est"
   ]
  },
  {
   "cell_type": "code",
   "execution_count": 30,
   "metadata": {},
   "outputs": [
    {
     "name": "stdout",
     "output_type": "stream",
     "text": [
      "0.9606195639478641\n"
     ]
    },
    {
     "data": {
      "text/plain": [
       "'Returned the manually calculated std, not Bessels correction'"
      ]
     },
     "execution_count": 30,
     "metadata": {},
     "output_type": "execute_result"
    }
   ],
   "source": [
    "#6 Now use numpy's std function to calculate the standard deviation of our random samples. Which of the above standard deviations did it return?\n",
    "print(np.std(sample))\n",
    "'Returned the manually calculated std, not Bessels correction'"
   ]
  },
  {
   "cell_type": "code",
   "execution_count": 31,
   "metadata": {},
   "outputs": [
    {
     "data": {
      "text/plain": [
       "1.0740053227518152"
      ]
     },
     "execution_count": 31,
     "metadata": {},
     "output_type": "execute_result"
    }
   ],
   "source": [
    "#7 Consult the documentation for np.std() to see how to apply the correction for estimating the population parameter and verify this produces the expected result.\n",
    "np.std(sample, ddof=1)"
   ]
  },
  {
   "cell_type": "code",
   "execution_count": 9,
   "metadata": {},
   "outputs": [
    {
     "data": {
      "image/png": "[encoded data removed]",
      "text/plain": [
       "<Figure size 432x288 with 1 Axes>"
      ]
     },
     "metadata": {
      "needs_background": "light"
     },
     "output_type": "display_data"
    }
   ],
   "source": [
    "#8 Simulate taking a sample of 10 people every day for a year from a town with population of 50000\n",
    "# mean height of 172cm and std of 5 cm\n",
    "# calculating the mean of each daily sample of 10, and plot the resultant sampling distribution of the mean.\n",
    "\n",
    "seed(47)\n",
    "town = norm.rvs(172, 5, 50000)\n",
    "def daily_sample(n):\n",
    "    return np.random.choice(town, n)\n",
    "daily_means = np.empty(365)\n",
    "for i in range(365):\n",
    "    sample = daily_sample(10)\n",
    "    daily_means[i] = np.mean(sample)\n",
    "plt.hist(daily_means)\n",
    "plt.xlabel('Height(cm)')\n",
    "plt.ylabel('Count')\n",
    "plt.title('Distribution of Mean Heights From Daily Samples')\n",
    "plt.show()"
   ]
  },
  {
   "cell_type": "code",
   "execution_count": 10,
   "metadata": {},
   "outputs": [
    {
     "data": {
      "text/plain": [
       "(1.5811388300841895, 1.590245247149885)"
      ]
     },
     "execution_count": 10,
     "metadata": {},
     "output_type": "execute_result"
    }
   ],
   "source": [
    "#9 Verify the above results from the CLT \n",
    "std_mean = 5/np.sqrt(10)\n",
    "std_mean2 = np.std(daily_means)\n",
    "std_mean, std_mean2"
   ]
  },
  {
   "cell_type": "code",
   "execution_count": 11,
   "metadata": {},
   "outputs": [
    {
     "name": "stdout",
     "output_type": "stream",
     "text": [
      "I expect the results to be more precise, narrower distribution\n"
     ]
    },
    {
     "data": {
      "image/png": "[encoded data removed]",
      "text/plain": [
       "<Figure size 432x288 with 1 Axes>"
      ]
     },
     "metadata": {
      "needs_background": "light"
     },
     "output_type": "display_data"
    },
    {
     "name": "stdout",
     "output_type": "stream",
     "text": [
      "Summary Statistics: Comparing CLT to Sample Mean\n"
     ]
    },
    {
     "data": {
      "text/plain": [
       "(0.7071067811865475, 0.6685984060079219)"
      ]
     },
     "execution_count": 11,
     "metadata": {},
     "output_type": "execute_result"
    }
   ],
   "source": [
    "#10 Repeat the daily samples but now with a sample size of 50 people each day\n",
    "print('I expect the results to be more precise, narrower distribution')\n",
    "daily_means = np.empty(365)\n",
    "for i in range(365):\n",
    "    sample = daily_sample(50)\n",
    "    daily_means[i] = np.mean(sample)\n",
    "plt.hist(daily_means)\n",
    "plt.xlabel('Height(cm)')\n",
    "plt.ylabel('Count')\n",
    "plt.title('Distribution of Mean Heights From Daily Samples')\n",
    "plt.show()\n",
    "print('Summary Statistics: Comparing CLT to Sample Mean')\n",
    "std_mean = 5/np.sqrt(50)\n",
    "std_mean2 = np.std(daily_means)\n",
    "std_mean, std_mean2"
   ]
  },
  {
   "cell_type": "code",
   "execution_count": 12,
   "metadata": {},
   "outputs": [
    {
     "name": "stdout",
     "output_type": "stream",
     "text": [
      "0.8490000000000001\n",
      "Or look up tables: .841\n"
     ]
    }
   ],
   "source": [
    "#11 Calculate the probability of observing the value 1 or less in a single observation from the standard normal distribution\n",
    "zscore = (2*.341) + .136 + .021 + .01\n",
    "print(zscore)\n",
    "print('Or look up tables: .841')"
   ]
  },
  {
   "cell_type": "code",
   "execution_count": 13,
   "metadata": {},
   "outputs": [
    {
     "data": {
      "text/plain": [
       "0.8413447460685429"
      ]
     },
     "execution_count": 13,
     "metadata": {},
     "output_type": "execute_result"
    }
   ],
   "source": [
    "#12 Use the cdf() function to answer the above question\n",
    "norm.cdf(1)"
   ]
  },
  {
   "cell_type": "code",
   "execution_count": 14,
   "metadata": {},
   "outputs": [
    {
     "name": "stdout",
     "output_type": "stream",
     "text": [
      "standard deviation is 5cm, so probability of selecting a person one standard deviation above the mean is .841\n",
      "0.8413447460685429\n"
     ]
    }
   ],
   "source": [
    "#13 Probability of selecting one person at random and their height being 177cm or less?\n",
    "print('standard deviation is 5cm, so probability of selecting a person one standard deviation above the mean is .841')\n",
    "print(norm.cdf(1))\n"
   ]
  },
  {
   "cell_type": "code",
   "execution_count": 15,
   "metadata": {},
   "outputs": [
    {
     "name": "stdout",
     "output_type": "stream",
     "text": [
      "1.0717590259723409e-08\n",
      "not very likely...\n"
     ]
    }
   ],
   "source": [
    "#14 We Measure someone 2.00m tall, how likely would it be to obtain a value at least as extreme as this?\n",
    "standdev = (200 - 172)/5\n",
    "print(1 - norm.cdf(standdev))\n",
    "print('not very likely...')"
   ]
  },
  {
   "cell_type": "code",
   "execution_count": 16,
   "metadata": {},
   "outputs": [
    {
     "name": "stdout",
     "output_type": "stream",
     "text": [
      "population mean estimate 172.53451073933155\n",
      "population std estimate 4.785856674829523\n"
     ]
    }
   ],
   "source": [
    "#15 Sample the heights of 50 townfolk. Estimate the population mean and std \n",
    "samp_50 = daily_sample(50)\n",
    "mean_est = np.mean(samp_50)\n",
    "std_est = np.std(samp_50, ddof=1)\n",
    "print('population mean estimate', mean_est)\n",
    "print('population std estimate', std_est)"
   ]
  },
  {
   "cell_type": "code",
   "execution_count": 17,
   "metadata": {},
   "outputs": [
    {
     "name": "stdout",
     "output_type": "stream",
     "text": [
      "1.3265474136871336\n"
     ]
    }
   ],
   "source": [
    "#16 Calculate the margin of error for 95% confidence\n",
    "marg_error = norm.ppf(.975) * (std_est/np.sqrt(50))\n",
    "print(marg_error)"
   ]
  },
  {
   "cell_type": "code",
   "execution_count": 18,
   "metadata": {},
   "outputs": [
    {
     "name": "stdout",
     "output_type": "stream",
     "text": [
      "171.2079633256444  -  173.8610581530187\n",
      "Yes, True population mean of 172cm is in the confidence interval\n"
     ]
    }
   ],
   "source": [
    "#17 Calculate the 95% confidence interval of the mean\n",
    "print(mean_est - marg_error,' - ', mean_est + marg_error)\n",
    "print('Yes, True population mean of 172cm is in the confidence interval')"
   ]
  },
  {
   "cell_type": "code",
   "execution_count": 19,
   "metadata": {},
   "outputs": [
    {
     "name": "stdout",
     "output_type": "stream",
     "text": [
      "This is a problem because we started this exercise stating that we know nothing about our population(dont know population standard deviation), thus we should use t-score\n"
     ]
    }
   ],
   "source": [
    "#18 confidence interval above was calculated using critical z value.\n",
    "print('This is a problem because we started this exercise stating that we know nothing about our population(dont know population standard deviation), thus we should use t-score')"
   ]
  },
  {
   "cell_type": "code",
   "execution_count": 20,
   "metadata": {},
   "outputs": [
    {
     "name": "stdout",
     "output_type": "stream",
     "text": [
      "1.3601254160529685\n",
      "171.17438532327859  -  173.89463615538452 (A bit wider than z-score)\n"
     ]
    }
   ],
   "source": [
    "#19 Calculate the 95% confidence interval using the t distribution. Wider or Narrower?\n",
    "marg_error = t.ppf(.975, 49) * (std_est/np.sqrt(50))\n",
    "print(marg_error)\n",
    "print(mean_est - marg_error,' - ', mean_est + marg_error, '(A bit wider than z-score)')\n",
    "\n",
    "\n"
   ]
  }
 ],
 "metadata": {
  "kernelspec": {
   "display_name": "Python 3",
   "language": "python",
   "name": "python3"
  },
  "language_info": {
   "codemirror_mode": {
    "name": "ipython",
    "version": 3
   },
   "file_extension": ".py",
   "mimetype": "text/x-python",
   "name": "python",
   "nbconvert_exporter": "python",
   "pygments_lexer": "ipython3",
   "version": "3.7.4"
  }
 },
 "nbformat": 4,
 "nbformat_minor": 2
}

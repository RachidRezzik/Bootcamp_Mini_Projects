{
 "cells": [
  {
   "cell_type": "code",
   "execution_count": 2,
   "metadata": {},
   "outputs": [],
   "source": [
    "import pandas as pd\n",
    "import numpy as np\n",
    "from numpy.random import seed\n",
    "import matplotlib.pyplot as plt"
   ]
  },
  {
   "cell_type": "code",
   "execution_count": 4,
   "metadata": {
    "scrolled": true
   },
   "outputs": [
    {
     "data": {
      "text/html": [
       "<div>\n",
       "<style scoped>\n",
       "    .dataframe tbody tr th:only-of-type {\n",
       "        vertical-align: middle;\n",
       "    }\n",
       "\n",
       "    .dataframe tbody tr th {\n",
       "        vertical-align: top;\n",
       "    }\n",
       "\n",
       "    .dataframe thead th {\n",
       "        text-align: right;\n",
       "    }\n",
       "</style>\n",
       "<table border=\"1\" class=\"dataframe\">\n",
       "  <thead>\n",
       "    <tr style=\"text-align: right;\">\n",
       "      <th></th>\n",
       "      <th>age</th>\n",
       "      <th>sex</th>\n",
       "      <th>bmi</th>\n",
       "      <th>children</th>\n",
       "      <th>smoker</th>\n",
       "      <th>region</th>\n",
       "      <th>charges</th>\n",
       "      <th>insuranceclaim</th>\n",
       "    </tr>\n",
       "  </thead>\n",
       "  <tbody>\n",
       "    <tr>\n",
       "      <td>0</td>\n",
       "      <td>19</td>\n",
       "      <td>0</td>\n",
       "      <td>27.900</td>\n",
       "      <td>0</td>\n",
       "      <td>1</td>\n",
       "      <td>3</td>\n",
       "      <td>16884.92400</td>\n",
       "      <td>1</td>\n",
       "    </tr>\n",
       "    <tr>\n",
       "      <td>1</td>\n",
       "      <td>18</td>\n",
       "      <td>1</td>\n",
       "      <td>33.770</td>\n",
       "      <td>1</td>\n",
       "      <td>0</td>\n",
       "      <td>2</td>\n",
       "      <td>1725.55230</td>\n",
       "      <td>1</td>\n",
       "    </tr>\n",
       "    <tr>\n",
       "      <td>2</td>\n",
       "      <td>28</td>\n",
       "      <td>1</td>\n",
       "      <td>33.000</td>\n",
       "      <td>3</td>\n",
       "      <td>0</td>\n",
       "      <td>2</td>\n",
       "      <td>4449.46200</td>\n",
       "      <td>0</td>\n",
       "    </tr>\n",
       "    <tr>\n",
       "      <td>3</td>\n",
       "      <td>33</td>\n",
       "      <td>1</td>\n",
       "      <td>22.705</td>\n",
       "      <td>0</td>\n",
       "      <td>0</td>\n",
       "      <td>1</td>\n",
       "      <td>21984.47061</td>\n",
       "      <td>0</td>\n",
       "    </tr>\n",
       "    <tr>\n",
       "      <td>4</td>\n",
       "      <td>32</td>\n",
       "      <td>1</td>\n",
       "      <td>28.880</td>\n",
       "      <td>0</td>\n",
       "      <td>0</td>\n",
       "      <td>1</td>\n",
       "      <td>3866.85520</td>\n",
       "      <td>1</td>\n",
       "    </tr>\n",
       "  </tbody>\n",
       "</table>\n",
       "</div>"
      ],
      "text/plain": [
       "   age  sex     bmi  children  smoker  region      charges  insuranceclaim\n",
       "0   19    0  27.900         0       1       3  16884.92400               1\n",
       "1   18    1  33.770         1       0       2   1725.55230               1\n",
       "2   28    1  33.000         3       0       2   4449.46200               0\n",
       "3   33    1  22.705         0       0       1  21984.47061               0\n",
       "4   32    1  28.880         0       0       1   3866.85520               1"
      ]
     },
     "execution_count": 4,
     "metadata": {},
     "output_type": "execute_result"
    }
   ],
   "source": [
    "medical = pd.read_csv('insurance2.csv')\n",
    "medical.head(5)"
   ]
  },
  {
   "cell_type": "code",
   "execution_count": 12,
   "metadata": {},
   "outputs": [
    {
     "name": "stdout",
     "output_type": "stream",
     "text": [
      "12624.862119128531\n",
      "Same as previous inferential statistics result.\n"
     ]
    }
   ],
   "source": [
    "#1 Use bootstrapping to estimate the 95% confidence interval lower limit\n",
    "np.random.seed(47)\n",
    "def bs_reps(data, func):\n",
    "    bs_sample = np.random.choice(data, len(data))\n",
    "    return func(bs_sample)\n",
    "bs_replicates = np.empty(10000)\n",
    "for i in range(10000):\n",
    "    bs_replicates[i] = bs_reps(medical['charges'], np.mean)\n",
    "conf_int95 = np.percentile(bs_replicates, [2.5, 97.5])\n",
    "print(conf_int95[0])\n",
    "print('Same as previous inferential statistics result.')"
   ]
  },
  {
   "cell_type": "code",
   "execution_count": 26,
   "metadata": {},
   "outputs": [
    {
     "name": "stdout",
     "output_type": "stream",
     "text": [
      "Null Hypothesis: The standard deviation of those with and without insurance is the same.\n",
      "95% Confidence [6685.21459399 8480.26550359]\n",
      "Observed difference in standard deviation 7596.256408655178\n",
      "I accept the null hypothesis as our observed difference in standard deviations is within our calculated 95% confidence interval.\n"
     ]
    },
    {
     "data": {
      "image/png": "[encoded data removed]",
      "text/plain": [
       "<Figure size 432x288 with 1 Axes>"
      ]
     },
     "metadata": {
      "needs_background": "light"
     },
     "output_type": "display_data"
    }
   ],
   "source": [
    "#2 Calculate 95% confidence interval for difference between standard deviations of those with and without insurance. \n",
    "# Plot the histogram of values and mark locations of percentiles\n",
    "print('Null Hypothesis: The standard deviation of those with and without insurance is the same.')\n",
    "ins = medical['charges'].loc[medical['insuranceclaim'] == 1]\n",
    "no_ins = medical['charges'].loc[medical['insuranceclaim'] == 0]\n",
    "diff_stds = np.std(ins) - np.std(no_ins)\n",
    "diff_reps = np.empty(10000)\n",
    "for i in range(10000):\n",
    "    diff_reps[i] = bs_reps(ins, np.std) - bs_reps(no_ins, np.std)\n",
    "interval95 = np.percentile(diff_reps, [2.5, 97.5])\n",
    "print('95% Confidence',interval95)\n",
    "print('Observed difference in standard deviation', diff_stds)\n",
    "print('I accept the null hypothesis as our observed difference in standard deviations is within our calculated 95% confidence interval.')\n",
    "plt.hist(diff_reps)\n",
    "plt.xlabel('Difference in Standard Deviation of Charges (With - Without Insurance)')\n",
    "plt.ylabel('Count')\n",
    "plt.axvline(interval95[0], color='red')\n",
    "plt.axvline(interval95[1], color='red')\n",
    "plt.axvline(diff_stds, color='green')\n",
    "plt.show()"
   ]
  },
  {
   "cell_type": "code",
   "execution_count": 35,
   "metadata": {},
   "outputs": [
    {
     "name": "stdout",
     "output_type": "stream",
     "text": [
      "Null Hypothesis: Those with and without insurance are charged the same on average.\n",
      "p-value 0.0\n",
      "Reject the null hypothesis\n"
     ]
    }
   ],
   "source": [
    "#3 Calculate p value for the observed difference in mean charges for those with/without insurance\n",
    "print('Null Hypothesis: Those with and without insurance are charged the same on average.')\n",
    "diff_means = np.mean(ins) - np.mean(no_ins)\n",
    "mean_charge = np.mean(np.concatenate((ins, no_ins)))\n",
    "ins_shifted = ins - np.mean(ins) + mean_charge\n",
    "no_ins_shifted = no_ins - np.mean(no_ins) + mean_charge\n",
    "diff_reps = np.empty(10000)\n",
    "for i in range(10000):\n",
    "    diff_reps[i] = bs_reps(ins_shifted, np.mean) - bs_reps(no_ins_shifted, np.mean)\n",
    "p = np.sum(diff_reps >= diff_means)/len(diff_reps)   \n",
    "print('p-value', p)\n",
    "print('Reject the null hypothesis')"
   ]
  },
  {
   "cell_type": "code",
   "execution_count": 39,
   "metadata": {
    "scrolled": true
   },
   "outputs": [
    {
     "data": {
      "image/png": "[encoded data removed]",
      "text/plain": [
       "<Figure size 432x288 with 1 Axes>"
      ]
     },
     "metadata": {
      "needs_background": "light"
     },
     "output_type": "display_data"
    },
    {
     "name": "stdout",
     "output_type": "stream",
     "text": [
      "Plotted the observed means for both those with and without insurance. The highest mean difference from the bootstrapped differences is way less than the observed difference in our actual data.\n"
     ]
    }
   ],
   "source": [
    "#4 Plot Histogram of bootstrapped differences along with lines marking the locations of the observed difference\n",
    "plt.hist(diff_reps)\n",
    "plt.xlabel('Difference in Mean of Bootstrapped Charges (With - Without Insurance)')\n",
    "plt.ylabel('Count')\n",
    "plt.axvline(np.mean(ins), color='red')\n",
    "plt.axvline(np.mean(no_ins), color='red')\n",
    "plt.show()\n",
    "print('Plotted the observed means for both those with and without insurance. The highest mean difference from the bootstrapped differences is way less than the observed difference in our actual data.')"
   ]
  },
  {
   "cell_type": "code",
   "execution_count": 40,
   "metadata": {},
   "outputs": [
    {
     "name": "stdout",
     "output_type": "stream",
     "text": [
      "With the very small p-value we got doing a t-test, there is a chance that if we do a whole bunch of replicates that we would eventually get a difference at least as large. In my opinion, it would not be an efficient use of time at all.\n"
     ]
    }
   ],
   "source": [
    "#5 Would you want to perform enough bootstrapped replicates to observe a random difference as large as the one we observed?\n",
    "print('With the very small p-value we got doing a t-test, there is a chance that if we do a whole bunch of replicates that we would eventually get a difference at least as large. In my opinion, it would not be an efficient use of time at all.')"
   ]
  },
  {
   "cell_type": "code",
   "execution_count": 41,
   "metadata": {},
   "outputs": [
    {
     "name": "stdout",
     "output_type": "stream",
     "text": [
      "I would stick with the t-test in which we assumed the variance was the same.\n"
     ]
    }
   ],
   "source": [
    "#6 Of the two variants of the t-test we performed in the previous assignment, which one would you use now?\n",
    "print('I would stick with the t-test in which we assumed the variance was the same.')"
   ]
  },
  {
   "cell_type": "code",
   "execution_count": 45,
   "metadata": {},
   "outputs": [
    {
     "name": "stdout",
     "output_type": "stream",
     "text": [
      "It would be a two sided test.\n",
      "Null Hypothesis: The clickthrough rate is did not change with the new algorithm\n",
      "Alternative Hypothesis: The clickthrough rate was impacted by the change in algorithm\n",
      "If we reject the null hypothesis, then we can choose to implement the new algorithm inplace of the current due to the positive change in clickthrough rate not just being by chance on a single trial.\n"
     ]
    }
   ],
   "source": [
    "#7 If you were looking at the clickthrough results for a current algorithm and a new one, would you perform a two-sided test as above? \n",
    "print('It would be a two sided test.')\n",
    "print('Null Hypothesis: The clickthrough rate is did not change with the new algorithm')\n",
    "print('Alternative Hypothesis: The clickthrough rate was impacted by the change in algorithm')\n",
    "print('If we reject the null hypothesis, then we can choose to implement the new algorithm inplace of the current due to the positive change in clickthrough rate not just being by chance on a single trial.')"
   ]
  }
 ],
 "metadata": {
  "kernelspec": {
   "display_name": "Python 3",
   "language": "python",
   "name": "python3"
  },
  "language_info": {
   "codemirror_mode": {
    "name": "ipython",
    "version": 3
   },
   "file_extension": ".py",
   "mimetype": "text/x-python",
   "name": "python",
   "nbconvert_exporter": "python",
   "pygments_lexer": "ipython3",
   "version": "3.7.4"
  }
 },
 "nbformat": 4,
 "nbformat_minor": 2
}

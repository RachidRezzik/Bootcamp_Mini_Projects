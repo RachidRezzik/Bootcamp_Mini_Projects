{
 "cells": [
  {
   "cell_type": "code",
   "execution_count": 1,
   "metadata": {},
   "outputs": [
    {
     "name": "stdout",
     "output_type": "stream",
     "text": [
      "Highest Opening Price: 53.11\n",
      "Lowest Opening Price: 34.0\n",
      "Largest Change In One Day (High - Low): 2.8100000000000023\n",
      "Largest Change Between Two Days (Based On Closing Price): 1.7199999999999989\n",
      "Average Daily Trading Volume: 89124.33725490196\n"
     ]
    }
   ],
   "source": [
    "import requests\n",
    "import numpy as np\n",
    "\n",
    "#Exercise 1: Collect Data From FSE for AFX_X for 2017#\n",
    "\n",
    "url = \"https://www.quandl.com/api/v3/datasets/FSE/AFX_X\"\n",
    "API_key = 'HWxsSiNuHxsfjCSvMzHK'\n",
    "dataset_code = 'AFX_X'\n",
    "start_date = '2017-01-01'\n",
    "end_date = '2017-12-31'\n",
    "params = dict(start_date=start_date, end_date=end_date, api_key=API_key)\n",
    "r = requests.get(url, params=params)\n",
    "json = r.json()\n",
    "\n",
    "#Exercise 2: Convert JSON object into a Python dictionary#\n",
    "new_dict = dict(json)\n",
    "\n",
    "#Exercise 3: Calculate what the highest and lowest opening prices were for the stock in this period#\n",
    "length = len(new_dict['dataset']['data'])\n",
    "opens = [new_dict['dataset']['data'][i][1] for i in range(length)]\n",
    "opens = list(np.array(opens, dtype=np.float))\n",
    "print('Highest Opening Price: ' + str(max(opens)))\n",
    "print('Lowest Opening Price: ' + str(min(opens)))\n",
    "\n",
    "#Exercise 4: What was the largest change in any one day (based on High and Low price)?#\n",
    "\n",
    "highs = [new_dict['dataset']['data'][i][2] for i in range(length)]\n",
    "lows = [new_dict['dataset']['data'][i][3] for i in range(length)]\n",
    "changes = [high - low for high, low in zip(highs, lows)]\n",
    "print('Largest Change In One Day (High - Low): ' + str(max(changes)))\n",
    "\n",
    "#Exercise 5: What was the largest change between any two days?(Based on Closing Price)#\n",
    "daily_change = [new_dict['dataset']['data'][i][4] - new_dict['dataset']['data'][i + 1][4] for i in range(length - 1)]\n",
    "print('Largest Change Between Two Days (Based On Closing Price): ' + str(max(daily_change)))\n",
    "\n",
    "#Exercise 6: What was the average daily trading volume during this year#\n",
    "traded_volumes = [new_dict['dataset']['data'][i][6] for i in range(length)]\n",
    "average_volume = sum(traded_volumes)/len(traded_volumes)\n",
    "print('Average Daily Trading Volume: ' + str(average_volume))\n"
   ]
  },
  {
   "cell_type": "code",
   "execution_count": null,
   "metadata": {},
   "outputs": [],
   "source": []
  }
 ],
 "metadata": {
  "kernelspec": {
   "display_name": "Python 3",
   "language": "python",
   "name": "python3"
  },
  "language_info": {
   "codemirror_mode": {
    "name": "ipython",
    "version": 3
   },
   "file_extension": ".py",
   "mimetype": "text/x-python",
   "name": "python",
   "nbconvert_exporter": "python",
   "pygments_lexer": "ipython3",
   "version": "3.7.4"
  }
 },
 "nbformat": 4,
 "nbformat_minor": 2
}
